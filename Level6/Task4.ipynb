{
 "cells": [
  {
   "cell_type": "code",
   "execution_count": 1,
   "id": "3db86798-9f01-4275-876e-d7f54bd670d5",
   "metadata": {},
   "outputs": [
    {
     "name": "stdout",
     "output_type": "stream",
     "text": [
      "Number of pets: Quantitative (Discrete)\n",
      "Blood type: Qualitative (Categorical)\n",
      "Weight in kg: Quantitative (Continuous)\n",
      "Satisfaction level: Qualitative (Ordinal)\n"
     ]
    }
   ],
   "source": [
    "#task4\n",
    "variables = {\n",
    "    \"Number of pets\": \"Quantitative (Discrete)\",\n",
    "    \"Blood type\": \"Qualitative (Categorical)\",\n",
    "    \"Weight in kg\": \"Quantitative (Continuous)\",\n",
    "    \"Satisfaction level\": \"Qualitative (Ordinal)\"\n",
    "}\n",
    "\n",
    "for var, var_type in variables.items():\n",
    "    print(f\"{var}: {var_type}\")"
   ]
  },
  {
   "cell_type": "code",
   "execution_count": null,
   "id": "abc90ade-a883-429b-a436-614fdd6992cd",
   "metadata": {},
   "outputs": [],
   "source": []
  }
 ],
 "metadata": {
  "kernelspec": {
   "display_name": "Python 3 (ipykernel)",
   "language": "python",
   "name": "python3"
  },
  "language_info": {
   "codemirror_mode": {
    "name": "ipython",
    "version": 3
   },
   "file_extension": ".py",
   "mimetype": "text/x-python",
   "name": "python",
   "nbconvert_exporter": "python",
   "pygments_lexer": "ipython3",
   "version": "3.10.11"
  }
 },
 "nbformat": 4,
 "nbformat_minor": 5
}
