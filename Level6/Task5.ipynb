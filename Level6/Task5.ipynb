{
 "cells": [
  {
   "cell_type": "code",
   "execution_count": 1,
   "id": "c8a11d65-9782-488f-8b7e-b7837f865fad",
   "metadata": {},
   "outputs": [
    {
     "name": "stdout",
     "output_type": "stream",
     "text": [
      "Task 5: Measures of Central Tendency\n",
      "Mean: 21.00\n",
      "Median: 5.5\n",
      "Mode: 5\n",
      "Interpretation: The mean is skewed by the outlier 100; median and mode better reflect the central tendency.\n"
     ]
    }
   ],
   "source": [
    "#task5\n",
    "import statistics\n",
    "data = [3, 5, 5, 6, 7, 100]\n",
    "mean_value = sum(data) / len(data)\n",
    "median_value = statistics.median(data)\n",
    "mode_value = statistics.mode(data)\n",
    "\n",
    "print(\"Task 5: Measures of Central Tendency\")\n",
    "print(f\"Mean: {mean_value:.2f}\")\n",
    "print(f\"Median: {median_value}\")\n",
    "print(f\"Mode: {mode_value}\")\n",
    "print(\"Interpretation: The mean is skewed by the outlier 100; median and mode better reflect the central tendency.\")"
   ]
  },
  {
   "cell_type": "code",
   "execution_count": null,
   "id": "39ca12de-95cc-4657-aa5f-a41ca847b48d",
   "metadata": {},
   "outputs": [],
   "source": []
  }
 ],
 "metadata": {
  "kernelspec": {
   "display_name": "Python 3 (ipykernel)",
   "language": "python",
   "name": "python3"
  },
  "language_info": {
   "codemirror_mode": {
    "name": "ipython",
    "version": 3
   },
   "file_extension": ".py",
   "mimetype": "text/x-python",
   "name": "python",
   "nbconvert_exporter": "python",
   "pygments_lexer": "ipython3",
   "version": "3.10.11"
  }
 },
 "nbformat": 4,
 "nbformat_minor": 5
}
