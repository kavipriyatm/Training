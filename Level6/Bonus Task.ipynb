{
 "cells": [
  {
   "cell_type": "code",
   "execution_count": 1,
   "id": "836e91c3-5095-456b-aebc-5dc74a2612e9",
   "metadata": {},
   "outputs": [
    {
     "name": "stdout",
     "output_type": "stream",
     "text": [
      "Q1 = 3.25\n",
      "Q3 = 7.75\n",
      "IQR = 4.5\n",
      "Outlier(s): [20]\n"
     ]
    }
   ],
   "source": [
    "import numpy as np\n",
    "\n",
    "data = [1, 2, 3, 4, 5, 6, 7, 8, 9, 20]\n",
    "data.sort()\n",
    "\n",
    "q1 = np.percentile(data, 25)\n",
    "q3 = np.percentile(data, 75)\n",
    "iqr = q3 - q1\n",
    "lower_fence = q1 - 1.5 * iqr\n",
    "upper_fence = q3 + 1.5 * iqr\n",
    "outliers = [x for x in data if x < lower_fence or x > upper_fence]\n",
    "\n",
    "print(\"Q1 =\", q1)\n",
    "print(\"Q3 =\", q3)\n",
    "print(\"IQR =\", iqr)\n",
    "print(\"Outlier(s):\", outliers)"
   ]
  },
  {
   "cell_type": "code",
   "execution_count": null,
   "id": "cbed8ade-ee3d-4048-8b1b-f10e01e43463",
   "metadata": {},
   "outputs": [],
   "source": []
  }
 ],
 "metadata": {
  "kernelspec": {
   "display_name": "Python 3 (ipykernel)",
   "language": "python",
   "name": "python3"
  },
  "language_info": {
   "codemirror_mode": {
    "name": "ipython",
    "version": 3
   },
   "file_extension": ".py",
   "mimetype": "text/x-python",
   "name": "python",
   "nbconvert_exporter": "python",
   "pygments_lexer": "ipython3",
   "version": "3.10.11"
  }
 },
 "nbformat": 4,
 "nbformat_minor": 5
}
