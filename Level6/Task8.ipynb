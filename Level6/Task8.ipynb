{
 "cells": [
  {
   "cell_type": "code",
   "execution_count": 1,
   "id": "d0e71dd5-c76d-4cff-8690-0bd43d238fd8",
   "metadata": {},
   "outputs": [
    {
     "name": "stdout",
     "output_type": "stream",
     "text": [
      "Approximately 68% of the data lies between 85 and 115.\n"
     ]
    }
   ],
   "source": [
    "import scipy.stats as stats\n",
    "\n",
    "mean = 100\n",
    "std_dev = 15\n",
    "lower = 85\n",
    "upper = 115\n",
    "\n",
    "prob = stats.norm.cdf(upper, mean, std_dev) - stats.norm.cdf(lower, mean, std_dev)\n",
    "percentage = prob * 100\n",
    "\n",
    "print(f\"Approximately {round(percentage)}% of the data lies between 85 and 115.\")"
   ]
  },
  {
   "cell_type": "code",
   "execution_count": null,
   "id": "16985de7-7daf-429c-94de-811e185a19dc",
   "metadata": {},
   "outputs": [],
   "source": []
  }
 ],
 "metadata": {
  "kernelspec": {
   "display_name": "Python 3 (ipykernel)",
   "language": "python",
   "name": "python3"
  },
  "language_info": {
   "codemirror_mode": {
    "name": "ipython",
    "version": 3
   },
   "file_extension": ".py",
   "mimetype": "text/x-python",
   "name": "python",
   "nbconvert_exporter": "python",
   "pygments_lexer": "ipython3",
   "version": "3.10.11"
  }
 },
 "nbformat": 4,
 "nbformat_minor": 5
}
