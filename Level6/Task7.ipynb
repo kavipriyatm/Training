{
 "cells": [
  {
   "cell_type": "code",
   "execution_count": 1,
   "id": "ca08e782-1c4b-490a-b625-1f83c09a53cc",
   "metadata": {},
   "outputs": [
    {
     "name": "stdout",
     "output_type": "stream",
     "text": [
      "\n",
      "Task 7: Z-Scores and Interpretation\n",
      "Z-score for x = 60: 1.0\n",
      "Z-score for x = 40: -1.0\n",
      "Interpretation: x = 60 is 1 standard deviation above the mean; x = 40 is 1 standard deviation below the mean.\n"
     ]
    }
   ],
   "source": [
    "#task7\n",
    "mean_z = 50\n",
    "std_dev_z = 10\n",
    "x1 = 60\n",
    "x2 = 40\n",
    "z1 = (x1 - mean_z) / std_dev_z\n",
    "z2 = (x2 - mean_z) / std_dev_z\n",
    "\n",
    "print(\"\\nTask 7: Z-Scores and Interpretation\")\n",
    "print(f\"Z-score for x = 60: {z1}\")\n",
    "print(f\"Z-score for x = 40: {z2}\")\n",
    "print(\"Interpretation: x = 60 is 1 standard deviation above the mean; x = 40 is 1 standard deviation below the mean.\")"
   ]
  },
  {
   "cell_type": "code",
   "execution_count": null,
   "id": "bb114619-6160-4000-89fe-1409e3f61676",
   "metadata": {},
   "outputs": [],
   "source": []
  }
 ],
 "metadata": {
  "kernelspec": {
   "display_name": "Python 3 (ipykernel)",
   "language": "python",
   "name": "python3"
  },
  "language_info": {
   "codemirror_mode": {
    "name": "ipython",
    "version": 3
   },
   "file_extension": ".py",
   "mimetype": "text/x-python",
   "name": "python",
   "nbconvert_exporter": "python",
   "pygments_lexer": "ipython3",
   "version": "3.10.11"
  }
 },
 "nbformat": 4,
 "nbformat_minor": 5
}
