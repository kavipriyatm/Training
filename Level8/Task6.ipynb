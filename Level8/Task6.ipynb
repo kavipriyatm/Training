{
 "cells": [
  {
   "cell_type": "code",
   "execution_count": 1,
   "id": "c82df003-52eb-4c1c-b9d0-5fa8c10f7b95",
   "metadata": {},
   "outputs": [
    {
     "name": "stdout",
     "output_type": "stream",
     "text": [
      "Simulate Bernoulli Trials\n",
      "Simulated Probability of Success: 0.27\n",
      "Matches theoretical P = 0.3 for Bernoulli trial.\n",
      "\n"
     ]
    }
   ],
   "source": [
    "#task6\n",
    "import numpy as np\n",
    "np.random.seed(2)\n",
    "bernoulli_trials = np.random.binomial(n=1, p=0.3, size=1000)\n",
    "simulated_p = bernoulli_trials.mean()\n",
    "print(\"Simulate Bernoulli Trials\")\n",
    "print(f\"Simulated Probability of Success: {simulated_p:.2f}\")\n",
    "print(\"Matches theoretical P = 0.3 for Bernoulli trial.\\n\")"
   ]
  },
  {
   "cell_type": "code",
   "execution_count": null,
   "id": "a9e5483a-67ef-4bfa-a195-bd21cc3d12a5",
   "metadata": {},
   "outputs": [],
   "source": []
  }
 ],
 "metadata": {
  "kernelspec": {
   "display_name": "Python 3 (ipykernel)",
   "language": "python",
   "name": "python3"
  },
  "language_info": {
   "codemirror_mode": {
    "name": "ipython",
    "version": 3
   },
   "file_extension": ".py",
   "mimetype": "text/x-python",
   "name": "python",
   "nbconvert_exporter": "python",
   "pygments_lexer": "ipython3",
   "version": "3.10.11"
  }
 },
 "nbformat": 4,
 "nbformat_minor": 5
}
