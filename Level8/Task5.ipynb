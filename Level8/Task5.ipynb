{
 "cells": [
  {
   "cell_type": "code",
   "execution_count": 1,
   "id": "ecef9975-e4db-4d1f-9cdb-0cbed753353c",
   "metadata": {},
   "outputs": [
    {
     "name": "stdout",
     "output_type": "stream",
     "text": [
      "Pearson vs. Spearman Correlation\n",
      "Pearson Correlation: 0.83\n",
      "Spearman Correlation: 0.80\n",
      "Both show positive correlation; Pearson higher due to near-linear relationship.\n",
      "\n"
     ]
    }
   ],
   "source": [
    "#task5\n",
    "import scipy.stats as stats\n",
    "import numpy as np\n",
    "height = np.array([160, 170, 180, 175])\n",
    "weight = np.array([60, 70, 75, 65])\n",
    "pearson_corr, _ = stats.pearsonr(height, weight)\n",
    "spearman_corr, _ = stats.spearmanr(height, weight)\n",
    "print(\"Pearson vs. Spearman Correlation\")\n",
    "print(f\"Pearson Correlation: {pearson_corr:.2f}\")\n",
    "print(f\"Spearman Correlation: {spearman_corr:.2f}\")\n",
    "print(\"Both show positive correlation; Pearson higher due to near-linear relationship.\\n\")"
   ]
  },
  {
   "cell_type": "code",
   "execution_count": null,
   "id": "bd8ffd39-069c-469a-a9ae-c6f9d7790dfa",
   "metadata": {},
   "outputs": [],
   "source": []
  }
 ],
 "metadata": {
  "kernelspec": {
   "display_name": "Python 3 (ipykernel)",
   "language": "python",
   "name": "python3"
  },
  "language_info": {
   "codemirror_mode": {
    "name": "ipython",
    "version": 3
   },
   "file_extension": ".py",
   "mimetype": "text/x-python",
   "name": "python",
   "nbconvert_exporter": "python",
   "pygments_lexer": "ipython3",
   "version": "3.10.11"
  }
 },
 "nbformat": 4,
 "nbformat_minor": 5
}
