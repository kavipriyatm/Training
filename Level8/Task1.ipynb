{
 "cells": [
  {
   "cell_type": "code",
   "execution_count": 1,
   "id": "87f5a0e1-f35f-44b2-9246-05d18a0f3e19",
   "metadata": {},
   "outputs": [
    {
     "name": "stdout",
     "output_type": "stream",
     "text": [
      "One-Sample Z-Test\n",
      "Z-Score: 15.48\n",
      "P-Value: 0.0000\n",
      "Reject H₀; medication affects IQ, likely increasing it (mean = 140 > 100).\n",
      "\n"
     ]
    }
   ],
   "source": [
    "#task1\n",
    "import numpy as np\n",
    "import statsmodels.stats.weightstats as st\n",
    "np.random.seed(0)\n",
    "sample_data_z = np.random.normal(loc=140, scale=15, size=30)\n",
    "z_score, p_value_z = st.ztest(sample_data_z, value=100)\n",
    "print(\"One-Sample Z-Test\")\n",
    "print(f\"Z-Score: {z_score:.2f}\")\n",
    "print(f\"P-Value: {p_value_z:.4f}\")\n",
    "if p_value_z < 0.05:\n",
    "    print(\"Reject H₀; medication affects IQ, likely increasing it (mean = 140 > 100).\\n\")\n",
    "else:\n",
    "    \n",
    "    print(\"Fail to reject H₀.\\n\")"
   ]
  },
  {
   "cell_type": "code",
   "execution_count": null,
   "id": "420e9298-f347-48ac-8371-4ba065d8b85d",
   "metadata": {},
   "outputs": [],
   "source": []
  }
 ],
 "metadata": {
  "kernelspec": {
   "display_name": "Python 3 (ipykernel)",
   "language": "python",
   "name": "python3"
  },
  "language_info": {
   "codemirror_mode": {
    "name": "ipython",
    "version": 3
   },
   "file_extension": ".py",
   "mimetype": "text/x-python",
   "name": "python",
   "nbconvert_exporter": "python",
   "pygments_lexer": "ipython3",
   "version": "3.10.11"
  }
 },
 "nbformat": 4,
 "nbformat_minor": 5
}
