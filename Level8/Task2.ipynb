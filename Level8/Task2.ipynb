{
 "cells": [
  {
   "cell_type": "code",
   "execution_count": 1,
   "id": "63fdcba2-ff86-4865-9d28-a022add67de4",
   "metadata": {},
   "outputs": [
    {
     "name": "stdout",
     "output_type": "stream",
     "text": [
      "One-Sample T-Test\n",
      "T-Score: 10.35\n",
      "P-Value: 0.0000\n",
      "Reject H₀; medication increases IQ (mean = 140 > 100).\n",
      "\n"
     ]
    }
   ],
   "source": [
    "#task2\n",
    "import numpy as np\n",
    "import scipy.stats as stats\n",
    "np.random.seed(1)\n",
    "sample_data_t = np.random.normal(loc=140, scale=20, size=30)\n",
    "t_score, p_value_t = stats.ttest_1samp(sample_data_t, popmean=100)\n",
    "print(\"One-Sample T-Test\")\n",
    "print(f\"T-Score: {t_score:.2f}\")\n",
    "print(f\"P-Value: {p_value_t:.4f}\")\n",
    "if p_value_t < 0.05:\n",
    "    print(\"Reject H₀; medication increases IQ (mean = 140 > 100).\\n\")\n",
    "else:\n",
    "    print(\"Fail to reject H₀.\\n\")"
   ]
  },
  {
   "cell_type": "code",
   "execution_count": null,
   "id": "98aacdd5-92d6-4e58-89af-d86716f2323d",
   "metadata": {},
   "outputs": [],
   "source": []
  }
 ],
 "metadata": {
  "kernelspec": {
   "display_name": "Python 3 (ipykernel)",
   "language": "python",
   "name": "python3"
  },
  "language_info": {
   "codemirror_mode": {
    "name": "ipython",
    "version": 3
   },
   "file_extension": ".py",
   "mimetype": "text/x-python",
   "name": "python",
   "nbconvert_exporter": "python",
   "pygments_lexer": "ipython3",
   "version": "3.10.11"
  }
 },
 "nbformat": 4,
 "nbformat_minor": 5
}
