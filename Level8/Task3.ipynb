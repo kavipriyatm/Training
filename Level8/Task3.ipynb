{
 "cells": [
  {
   "cell_type": "code",
   "execution_count": 1,
   "id": "6bcf00fc-5605-4216-bc19-dcb3c37caebd",
   "metadata": {},
   "outputs": [
    {
     "name": "stdout",
     "output_type": "stream",
     "text": [
      "Chi-Square Test\n",
      "Chi-Square Statistic: 232.49\n",
      "P-Value: 0.0000\n",
      "Reject H₀; age distribution changed.\n",
      "\n"
     ]
    }
   ],
   "source": [
    "#task3\n",
    "import scipy.stats as stats\n",
    "observed = [121, 288, 91]\n",
    "expected = [100, 150, 250]\n",
    "chi_square_stat, p_value_chi = stats.chisquare(f_obs=observed, f_exp=expected)\n",
    "print(\"Chi-Square Test\")\n",
    "print(f\"Chi-Square Statistic: {chi_square_stat:.2f}\")\n",
    "print(f\"P-Value: {p_value_chi:.4f}\")\n",
    "if p_value_chi < 0.05:\n",
    "    print(\"Reject H₀; age distribution changed.\\n\")\n",
    "else:\n",
    "    print(\"Fail to reject H₀.\\n\")"
   ]
  },
  {
   "cell_type": "code",
   "execution_count": null,
   "id": "e0a6aa12-56db-4455-80fa-164edb915dae",
   "metadata": {},
   "outputs": [],
   "source": []
  }
 ],
 "metadata": {
  "kernelspec": {
   "display_name": "Python 3 (ipykernel)",
   "language": "python",
   "name": "python3"
  },
  "language_info": {
   "codemirror_mode": {
    "name": "ipython",
    "version": 3
   },
   "file_extension": ".py",
   "mimetype": "text/x-python",
   "name": "python",
   "nbconvert_exporter": "python",
   "pygments_lexer": "ipython3",
   "version": "3.10.11"
  }
 },
 "nbformat": 4,
 "nbformat_minor": 5
}
