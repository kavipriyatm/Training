{
 "cells": [
  {
   "cell_type": "code",
   "execution_count": 1,
   "id": "9b1db707-76f3-44a8-b2ee-0801add6d7d5",
   "metadata": {},
   "outputs": [
    {
     "name": "stdout",
     "output_type": "stream",
     "text": [
      "Covariance Calculation\n",
      "Covariance: 45.83\n",
      "Positive covariance; as height increases, weight tends to increase.\n",
      "\n"
     ]
    }
   ],
   "source": [
    "#task4\n",
    "import numpy as np\n",
    "height = np.array([160, 170, 180, 175])\n",
    "weight = np.array([60, 70, 75, 65])\n",
    "covariance = np.cov(height, weight)[0, 1]\n",
    "print(\"Covariance Calculation\")\n",
    "print(f\"Covariance: {covariance:.2f}\")\n",
    "print(\"Positive covariance; as height increases, weight tends to increase.\\n\")"
   ]
  },
  {
   "cell_type": "code",
   "execution_count": null,
   "id": "8f517c80-1e63-40ad-9be9-3a334461bf80",
   "metadata": {},
   "outputs": [],
   "source": []
  }
 ],
 "metadata": {
  "kernelspec": {
   "display_name": "Python 3 (ipykernel)",
   "language": "python",
   "name": "python3"
  },
  "language_info": {
   "codemirror_mode": {
    "name": "ipython",
    "version": 3
   },
   "file_extension": ".py",
   "mimetype": "text/x-python",
   "name": "python",
   "nbconvert_exporter": "python",
   "pygments_lexer": "ipython3",
   "version": "3.10.11"
  }
 },
 "nbformat": 4,
 "nbformat_minor": 5
}
