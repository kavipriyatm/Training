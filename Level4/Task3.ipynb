{
 "cells": [
  {
   "cell_type": "code",
   "execution_count": 1,
   "id": "d942c0f7-e5c6-4d47-bdea-ffe966b1b376",
   "metadata": {},
   "outputs": [
    {
     "name": "stdout",
     "output_type": "stream",
     "text": [
      "Updated DataFrame with new feature:\n",
      "       price  sqft_lot  sqft_living\n",
      "0   1.032836      1384         1340\n",
      "1  45.036723    159430         3540\n",
      "2  17.884044    130017         7270\n",
      "3   0.905812       904          998\n",
      "4   2.292484      7015         3060\n"
     ]
    }
   ],
   "source": [
    "#task3\n",
    "import pandas as pd  \n",
    "df = pd.read_csv(r\"D:\\DS-DAY3\\USA Housing Dataset.csv\")\n",
    "df[\"price\"] = df[\"sqft_lot\"] / df[\"sqft_living\"]\n",
    "print(\"Updated DataFrame with new feature:\")\n",
    "print(df[[\"price\", \"sqft_lot\", \"sqft_living\"]].head())"
   ]
  },
  {
   "cell_type": "code",
   "execution_count": null,
   "id": "a27ddd45-3bc6-4a63-a247-389b0cb3bf38",
   "metadata": {},
   "outputs": [],
   "source": []
  }
 ],
 "metadata": {
  "kernelspec": {
   "display_name": "Python 3 (ipykernel)",
   "language": "python",
   "name": "python3"
  },
  "language_info": {
   "codemirror_mode": {
    "name": "ipython",
    "version": 3
   },
   "file_extension": ".py",
   "mimetype": "text/x-python",
   "name": "python",
   "nbconvert_exporter": "python",
   "pygments_lexer": "ipython3",
   "version": "3.10.11"
  }
 },
 "nbformat": 4,
 "nbformat_minor": 5
}
