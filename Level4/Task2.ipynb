{
 "cells": [
  {
   "cell_type": "code",
   "execution_count": 2,
   "id": "c76fb6a6-3664-4c1c-a508-e9c77931fd25",
   "metadata": {},
   "outputs": [
    {
     "name": "stdout",
     "output_type": "stream",
     "text": [
      "Protected pdf : D:\\KAVIPRIYA\\DATABRICKS-1.pdf\n"
     ]
    }
   ],
   "source": [
    "#task2\n",
    "from PyPDF2 import PdfWriter , PdfReader\n",
    "def pdf_protected(input_pdf, output_pdf, password):\n",
    "    reader = PdfReader(input_pdf)\n",
    "    writer = PdfWriter()\n",
    "\n",
    "    for page in reader.pages:\n",
    "        writer.add_page(page)\n",
    "        \n",
    "    writer.encrypt(password)\n",
    "\n",
    "    with open(output_pdf,\"wb\") as f:\n",
    "        writer.write(f)\n",
    "        \n",
    "    print(f\"Protected pdf : {output_pdf}\")\n",
    "pdf_protected(\"D:\\\\KAVIPRIYA\\\\Coursera .pdf\",\"D:\\\\KAVIPRIYA\\\\DATABRICKS-1.pdf\",\"pasword123\")"
   ]
  },
  {
   "cell_type": "code",
   "execution_count": null,
   "id": "b76482ed-04f2-4d00-8d7f-0335ec2b606d",
   "metadata": {},
   "outputs": [],
   "source": []
  }
 ],
 "metadata": {
  "kernelspec": {
   "display_name": "Python 3 (ipykernel)",
   "language": "python",
   "name": "python3"
  },
  "language_info": {
   "codemirror_mode": {
    "name": "ipython",
    "version": 3
   },
   "file_extension": ".py",
   "mimetype": "text/x-python",
   "name": "python",
   "nbconvert_exporter": "python",
   "pygments_lexer": "ipython3",
   "version": "3.10.11"
  }
 },
 "nbformat": 4,
 "nbformat_minor": 5
}
