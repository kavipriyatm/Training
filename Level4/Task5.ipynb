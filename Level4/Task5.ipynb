{
 "cells": [
  {
   "cell_type": "code",
   "execution_count": 1,
   "id": "b13e0c95-fae9-4563-ba09-8b5f501ab122",
   "metadata": {},
   "outputs": [
    {
     "name": "stdout",
     "output_type": "stream",
     "text": [
      "Logging setup complete. Check 'app.log' for output.\n"
     ]
    }
   ],
   "source": [
    "#task5\n",
    "import logging\n",
    "logging.basicConfig(\n",
    "    filename = \"app.log\",\n",
    "    filemode = \"a\",\n",
    "    format = \"%(asctime)s - %(levelname)s - %(message)s\",\n",
    "    level = logging.DEBUG)\n",
    "logging.debug(\"This is a debug message\")\n",
    "logging.info(\"This is an info message\")\n",
    "logging.warning(\"This is an warning message\")\n",
    "logging.critical(\"This is a critical message\")\n",
    "logging.error(\"This is a error message\")\n",
    "print(\"Logging setup complete. Check 'app.log' for output.\")"
   ]
  },
  {
   "cell_type": "code",
   "execution_count": 2,
   "id": "811ceef1-bd1d-4356-8c62-7800c520048d",
   "metadata": {},
   "outputs": [
    {
     "name": "stdout",
     "output_type": "stream",
     "text": [
      "INFO:root:Script started\n",
      "INFO:root:Task completed\n",
      "2025-03-20 12:12:10,809 - DEBUG - This is a debug message\n",
      "2025-03-20 12:12:10,809 - INFO - This is an info message\n",
      "2025-03-20 12:12:10,810 - WARNING - This is an warning message\n",
      "2025-03-20 12:12:10,810 - CRITICAL - This is a critical message\n",
      "2025-03-20 12:12:10,811 - ERROR - This is a error message\n",
      "2025-03-20 12:12:33,428 - DEBUG - This is a debug message\n",
      "2025-03-20 12:12:33,428 - INFO - This is an info message\n",
      "2025-03-20 12:12:33,428 - WARNING - This is an warning message\n",
      "2025-03-20 12:12:33,428 - CRITICAL - This is a critical message\n",
      "2025-03-20 12:12:33,428 - ERROR - This is a error message\n",
      "2025-03-20 12:12:46,023 - DEBUG - This is a debug message\n",
      "2025-03-20 12:12:46,024 - INFO - This is an info message\n",
      "2025-03-20 12:12:46,026 - WARNING - This is an warning message\n",
      "2025-03-20 12:12:46,027 - CRITICAL - This is a critical message\n",
      "2025-03-20 12:12:46,027 - ERROR - This is a error message\n",
      "2025-03-20 12:16:00,172 - ERROR - No such comm target registered: jupyter.widget.control\n",
      "2025-03-20 12:16:00,177 - WARNING - No such comm: 38801e82-778a-48a5-9153-7645430186d3\n",
      "2025-03-20 12:16:00,178 - DEBUG - Current comms: []\n",
      "2025-03-28 18:41:05,002 - DEBUG - This is a debug message\n",
      "2025-03-28 18:41:05,003 - INFO - This is an info message\n",
      "2025-03-28 18:41:05,003 - WARNING - This is an warning message\n",
      "2025-03-28 18:41:05,003 - CRITICAL - This is a critical message\n",
      "2025-03-28 18:41:05,003 - ERROR - This is a error message\n"
     ]
    }
   ],
   "source": [
    "with open(\"app.log\", \"r\") as file:\n",
    "    logs = file.readlines()\n",
    "    for line in logs:\n",
    "        print(line.strip()) "
   ]
  },
  {
   "cell_type": "code",
   "execution_count": null,
   "id": "b31f7c2b-e524-4bfd-8938-ad9df8692e48",
   "metadata": {},
   "outputs": [],
   "source": []
  }
 ],
 "metadata": {
  "kernelspec": {
   "display_name": "Python 3 (ipykernel)",
   "language": "python",
   "name": "python3"
  },
  "language_info": {
   "codemirror_mode": {
    "name": "ipython",
    "version": 3
   },
   "file_extension": ".py",
   "mimetype": "text/x-python",
   "name": "python",
   "nbconvert_exporter": "python",
   "pygments_lexer": "ipython3",
   "version": "3.10.11"
  }
 },
 "nbformat": 4,
 "nbformat_minor": 5
}
