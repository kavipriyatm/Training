{
 "cells": [
  {
   "cell_type": "code",
   "execution_count": 1,
   "id": "7b1710c7-9831-46cf-9797-4b24affbe33c",
   "metadata": {},
   "outputs": [
    {
     "name": "stdout",
     "output_type": "stream",
     "text": [
      "Mean:5.5\n",
      "Max:10\n",
      "Min:1\n"
     ]
    }
   ],
   "source": [
    "#task3\n",
    "import numpy as np\n",
    "a=np.arange(1,11)\n",
    "mean_value=np.mean(a)\n",
    "print(f\"Mean:{mean_value}\")\n",
    "max_value=np.max(a)\n",
    "print(f\"Max:{max_value}\")\n",
    "min_value=np.min(a)\n",
    "print(f\"Min:{min_value}\")"
   ]
  },
  {
   "cell_type": "code",
   "execution_count": null,
   "id": "2257e2da-56bb-40dc-8523-3d9372aff706",
   "metadata": {},
   "outputs": [],
   "source": []
  }
 ],
 "metadata": {
  "kernelspec": {
   "display_name": "Python 3 (ipykernel)",
   "language": "python",
   "name": "python3"
  },
  "language_info": {
   "codemirror_mode": {
    "name": "ipython",
    "version": 3
   },
   "file_extension": ".py",
   "mimetype": "text/x-python",
   "name": "python",
   "nbconvert_exporter": "python",
   "pygments_lexer": "ipython3",
   "version": "3.10.11"
  }
 },
 "nbformat": 4,
 "nbformat_minor": 5
}
