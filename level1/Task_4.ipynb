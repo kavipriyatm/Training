{
 "cells": [
  {
   "cell_type": "code",
   "execution_count": 1,
   "id": "046c864d-7f1b-4186-bb69-e2c4b93ac3dc",
   "metadata": {},
   "outputs": [
    {
     "name": "stdout",
     "output_type": "stream",
     "text": [
      "  Customer_Name  Account_Number Account_Type  Balance Account_Creation_Date  \\\n",
      "0         Romil      7867156462      Current   180344            2011-07-07   \n",
      "1        Vivaan      8521329483      Savings   221155                   NaN   \n",
      "2          Anya      6696555432      Current   348905                   NaN   \n",
      "3          Sana      2212134069      Current   198739                   NaN   \n",
      "4         Rohan      4808094686         Loan   457045            2022-08-08   \n",
      "\n",
      "     Loan_ID Loan_Type  Interest_Rate  Loan_Amount  EMI_Amount  ...  \\\n",
      "0  LN-3763uL       Car           9.99     508285.0    15529.52  ...   \n",
      "1  LN-0125XV      Home          11.16    1644923.0    50791.57  ...   \n",
      "2  LN-6426LB       Car           9.91     591658.0    18063.65  ...   \n",
      "3  LN-1780xr       Car           9.39    1891094.0    57462.99  ...   \n",
      "4  LN-1663HC  Personal          13.80    2947874.0    93185.57  ...   \n",
      "\n",
      "        Job_Type Age Marital status  income  employment_type  tenure  \\\n",
      "0        Private  31        Married   91174          Private       8   \n",
      "1     Government  27        Married   53022       Government      15   \n",
      "2     Government  23        Married  130084       Government       5   \n",
      "3  Self-employed  34        Married   45691    Self-employed       5   \n",
      "4        Private  57        Married  133666          Private       2   \n",
      "\n",
      "   eligibility loan_amount  Account_Creation_Year Account_Creation_Month  \n",
      "0            1    508285.0                 2011.0                    7.0  \n",
      "1            0   1644923.0                    NaN                    NaN  \n",
      "2            0    591658.0                    NaN                    NaN  \n",
      "3            0   1891094.0                    NaN                    NaN  \n",
      "4            0   2947874.0                 2022.0                    8.0  \n",
      "\n",
      "[5 rows x 27 columns]\n",
      "<class 'pandas.core.frame.DataFrame'>\n",
      "RangeIndex: 650 entries, 0 to 649\n",
      "Data columns (total 27 columns):\n",
      " #   Column                  Non-Null Count  Dtype  \n",
      "---  ------                  --------------  -----  \n",
      " 0   Customer_Name           650 non-null    object \n",
      " 1   Account_Number          650 non-null    int64  \n",
      " 2   Account_Type            650 non-null    object \n",
      " 3   Balance                 650 non-null    int64  \n",
      " 4   Account_Creation_Date   274 non-null    object \n",
      " 5   Loan_ID                 650 non-null    object \n",
      " 6   Loan_Type               650 non-null    object \n",
      " 7   Interest_Rate           650 non-null    float64\n",
      " 8   Loan_Amount             650 non-null    float64\n",
      " 9   EMI_Amount              650 non-null    float64\n",
      " 10  Next_EMI_Due_Date       650 non-null    object \n",
      " 11  Branch_Name             650 non-null    object \n",
      " 12  Branch_Code             650 non-null    object \n",
      " 13  Branch_Address          650 non-null    object \n",
      " 14  Branch_Contact          650 non-null    float64\n",
      " 15  cibil_score             650 non-null    int64  \n",
      " 16  Salary                  650 non-null    int64  \n",
      " 17  Job_Type                650 non-null    object \n",
      " 18  Age                     650 non-null    int64  \n",
      " 19  Marital status          650 non-null    object \n",
      " 20  income                  650 non-null    int64  \n",
      " 21  employment_type         650 non-null    object \n",
      " 22  tenure                  650 non-null    int64  \n",
      " 23  eligibility             650 non-null    int64  \n",
      " 24  loan_amount             650 non-null    float64\n",
      " 25  Account_Creation_Year   274 non-null    float64\n",
      " 26  Account_Creation_Month  274 non-null    float64\n",
      "dtypes: float64(7), int64(8), object(12)\n",
      "memory usage: 137.2+ KB\n",
      "None\n"
     ]
    }
   ],
   "source": [
    "#task4\n",
    "import pandas as pd\n",
    "df=pd.read_csv(\"D:\\DS-DAY3\\loan dataset_cleaned.csv\")\n",
    "print(df.head())\n",
    "print(df.info())"
   ]
  },
  {
   "cell_type": "code",
   "execution_count": null,
   "id": "b8afa41b-8160-4dc7-8d34-84a9f2ad852c",
   "metadata": {},
   "outputs": [],
   "source": []
  }
 ],
 "metadata": {
  "kernelspec": {
   "display_name": "Python 3 (ipykernel)",
   "language": "python",
   "name": "python3"
  },
  "language_info": {
   "codemirror_mode": {
    "name": "ipython",
    "version": 3
   },
   "file_extension": ".py",
   "mimetype": "text/x-python",
   "name": "python",
   "nbconvert_exporter": "python",
   "pygments_lexer": "ipython3",
   "version": "3.10.11"
  }
 },
 "nbformat": 4,
 "nbformat_minor": 5
}
