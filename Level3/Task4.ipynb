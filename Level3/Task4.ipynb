{
 "cells": [
  {
   "cell_type": "code",
   "execution_count": 1,
   "id": "485be49f-fc61-4e8e-81d9-fa8fe352d92c",
   "metadata": {},
   "outputs": [
    {
     "name": "stdout",
     "output_type": "stream",
     "text": [
      "Function executed\n",
      "Elapsed time: 1.01 seconds\n"
     ]
    }
   ],
   "source": [
    "#task4\n",
    "import time\n",
    "def timer_decorator(func):\n",
    "    def wrapper():\n",
    "        start_time = time.time()\n",
    "        func()\n",
    "        end_time = time.time()\n",
    "        elapsed = end_time - start_time\n",
    "        print(f\"Elapsed time: {elapsed:.2f} seconds\")\n",
    "    return wrapper\n",
    "\n",
    "@timer_decorator\n",
    "def pause_one_second():\n",
    "    time.sleep(1)\n",
    "    print(\"Function executed\")\n",
    "pause_one_second()"
   ]
  },
  {
   "cell_type": "code",
   "execution_count": null,
   "id": "7d522249-e380-49fd-b032-b1cf3ee69372",
   "metadata": {},
   "outputs": [],
   "source": []
  }
 ],
 "metadata": {
  "kernelspec": {
   "display_name": "Python 3 (ipykernel)",
   "language": "python",
   "name": "python3"
  },
  "language_info": {
   "codemirror_mode": {
    "name": "ipython",
    "version": 3
   },
   "file_extension": ".py",
   "mimetype": "text/x-python",
   "name": "python",
   "nbconvert_exporter": "python",
   "pygments_lexer": "ipython3",
   "version": "3.10.11"
  }
 },
 "nbformat": 4,
 "nbformat_minor": 5
}
