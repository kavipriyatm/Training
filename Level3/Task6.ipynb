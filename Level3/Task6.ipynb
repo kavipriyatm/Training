{
 "cells": [
  {
   "cell_type": "code",
   "execution_count": 1,
   "id": "94395043-dfaf-4c79-a7e1-c432029dd7b6",
   "metadata": {},
   "outputs": [
    {
     "name": "stdout",
     "output_type": "stream",
     "text": [
      "Original list: [[9, 2], [3, 4]]\n",
      "Shallow copy: [[9, 2], [3, 4]]\n",
      "Deep copy: [[8, 2], [3, 4]]\n"
     ]
    }
   ],
   "source": [
    "# Bonustask\n",
    "import copy\n",
    "original_list = [[1, 2], [3, 4]]\n",
    "shallow_copy = copy.copy(original_list)\n",
    "deep_copy = copy.deepcopy(original_list)\n",
    "shallow_copy[0][0] = 9\n",
    "deep_copy[0][0] = 8\n",
    "print(\"Original list:\", original_list)\n",
    "print(\"Shallow copy:\", shallow_copy)\n",
    "print(\"Deep copy:\", deep_copy)"
   ]
  },
  {
   "cell_type": "code",
   "execution_count": null,
   "id": "cbeba8ff-48b3-45d2-b74d-7c77d4b87394",
   "metadata": {},
   "outputs": [],
   "source": []
  }
 ],
 "metadata": {
  "kernelspec": {
   "display_name": "Python 3 (ipykernel)",
   "language": "python",
   "name": "python3"
  },
  "language_info": {
   "codemirror_mode": {
    "name": "ipython",
    "version": 3
   },
   "file_extension": ".py",
   "mimetype": "text/x-python",
   "name": "python",
   "nbconvert_exporter": "python",
   "pygments_lexer": "ipython3",
   "version": "3.10.11"
  }
 },
 "nbformat": 4,
 "nbformat_minor": 5
}
