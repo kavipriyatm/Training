{
 "cells": [
  {
   "cell_type": "code",
   "execution_count": 2,
   "id": "4f6b9a57-2efa-4e0a-bc6b-d04603582db9",
   "metadata": {},
   "outputs": [],
   "source": [
    "import pandas as pd\n",
    "import numpy as np\n",
    "from sklearn.model_selection import train_test_split, cross_val_score\n",
    "from sklearn.preprocessing import StandardScaler\n",
    "from sklearn.linear_model import LogisticRegression\n",
    "from sklearn.ensemble import RandomForestClassifier\n",
    "from sklearn.metrics import accuracy_score"
   ]
  },
  {
   "cell_type": "code",
   "execution_count": 3,
   "id": "60d7d75a-3a6f-4f7a-9e6f-788526cc01d1",
   "metadata": {},
   "outputs": [],
   "source": [
    "df = pd.read_csv('creditcard.csv')\n",
    "df_sample = df.sample(n=10000, random_state=42)"
   ]
  },
  {
   "cell_type": "code",
   "execution_count": 4,
   "id": "696810e7-0931-4970-952a-c3d8984e1b1b",
   "metadata": {},
   "outputs": [],
   "source": [
    "X = df_sample.drop('class', axis=1)\n",
    "y = df_sample['class']"
   ]
  },
  {
   "cell_type": "code",
   "execution_count": 5,
   "id": "aa275eb4-eafe-44cc-ba4d-6419b19f0419",
   "metadata": {},
   "outputs": [],
   "source": [
    "scaler = StandardScaler()\n",
    "X_scaled = scaler.fit_transform(X)"
   ]
  },
  {
   "cell_type": "code",
   "execution_count": 6,
   "id": "d80d744b-3c2f-4143-b17d-0e94a4667ebf",
   "metadata": {},
   "outputs": [
    {
     "name": "stdout",
     "output_type": "stream",
     "text": [
      "                 Model  Mean Accuracy  Std Dev\n",
      "0  Logistic Regression         0.9982  0.00051\n",
      "1        Random Forest         0.9991  0.00020\n"
     ]
    }
   ],
   "source": [
    "log_model = LogisticRegression(max_iter=200)\n",
    "rf_model = RandomForestClassifier(n_estimators=50, random_state=42, n_jobs=-1)\n",
    "log_scores = cross_val_score(log_model, X_scaled, y, cv=5, scoring='accuracy', n_jobs=-1)\n",
    "rf_scores = cross_val_score(rf_model, X_scaled, y, cv=5, scoring='accuracy', n_jobs=-1)\n",
    "cv_results = pd.DataFrame({\n",
    "    'Model': ['Logistic Regression', 'Random Forest'],\n",
    "    'Mean Accuracy': [log_scores.mean(), rf_scores.mean()],\n",
    "    'Std Dev': [log_scores.std(), rf_scores.std()]\n",
    "})\n",
    "print(cv_results)"
   ]
  },
  {
   "cell_type": "code",
   "execution_count": null,
   "id": "b693e3b5-6012-4967-b147-5d6f784d1d96",
   "metadata": {},
   "outputs": [],
   "source": []
  }
 ],
 "metadata": {
  "kernelspec": {
   "display_name": "Python 3 (ipykernel)",
   "language": "python",
   "name": "python3"
  },
  "language_info": {
   "codemirror_mode": {
    "name": "ipython",
    "version": 3
   },
   "file_extension": ".py",
   "mimetype": "text/x-python",
   "name": "python",
   "nbconvert_exporter": "python",
   "pygments_lexer": "ipython3",
   "version": "3.10.11"
  }
 },
 "nbformat": 4,
 "nbformat_minor": 5
}
