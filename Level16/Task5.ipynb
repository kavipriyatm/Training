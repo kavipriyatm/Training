{
 "cells": [
  {
   "cell_type": "code",
   "execution_count": 1,
   "id": "032e7bcf-7127-4a92-bda2-fb2e3ea8fe67",
   "metadata": {},
   "outputs": [
    {
     "name": "stdout",
     "output_type": "stream",
     "text": [
      "                        MSE           RMSE            MAE  R² Score\n",
      "Random Forest  6.099665e+10  246975.003584  133137.746003  0.418168\n",
      "XGBoost        1.829371e+11  427711.518661  135991.142701 -0.744993\n",
      "Stacked Model  6.214739e+10  249293.791676  163187.102281  0.407191\n"
     ]
    }
   ],
   "source": [
    "import pandas as pd\n",
    "import numpy as np\n",
    "from sklearn.model_selection import train_test_split\n",
    "from sklearn.preprocessing import LabelEncoder\n",
    "from sklearn.ensemble import RandomForestRegressor, StackingRegressor\n",
    "from xgboost import XGBRegressor\n",
    "from sklearn.linear_model import LinearRegression\n",
    "from sklearn.metrics import mean_squared_error, mean_absolute_error, r2_score\n",
    "\n",
    "df = pd.read_csv(\"Usa Housing Dataset.csv\")\n",
    "df = df.drop(['date', 'street', 'country'], axis=1)\n",
    "\n",
    "le = LabelEncoder()\n",
    "df['city'] = le.fit_transform(df['city'])\n",
    "df['statezip'] = le.fit_transform(df['statezip'])\n",
    "\n",
    "X = df.drop('price', axis=1)\n",
    "y = df['price']\n",
    "\n",
    "X_train, X_test, y_train, y_test = train_test_split(X, y, test_size=0.2, random_state=42)\n",
    "\n",
    "rf = RandomForestRegressor(n_estimators=100, random_state=42)\n",
    "xgb = XGBRegressor(random_state=42)\n",
    "meta_model = LinearRegression()\n",
    "\n",
    "stack = StackingRegressor(estimators=[('rf', rf), ('xgb', xgb)], final_estimator=meta_model)\n",
    "\n",
    "rf.fit(X_train, y_train)\n",
    "xgb.fit(X_train, y_train)\n",
    "stack.fit(X_train, y_train)\n",
    "\n",
    "rf_pred = rf.predict(X_test)\n",
    "xgb_pred = xgb.predict(X_test)\n",
    "stack_pred = stack.predict(X_test)\n",
    "\n",
    "def get_metrics(y_true, y_pred):\n",
    "    mse = mean_squared_error(y_true, y_pred)\n",
    "    rmse = np.sqrt(mse)\n",
    "    mae = mean_absolute_error(y_true, y_pred)\n",
    "    r2 = r2_score(y_true, y_pred)\n",
    "    return [mse, rmse, mae, r2]\n",
    "\n",
    "rf_scores = get_metrics(y_test, rf_pred)\n",
    "xgb_scores = get_metrics(y_test, xgb_pred)\n",
    "stack_scores = get_metrics(y_test, stack_pred)\n",
    "\n",
    "results_df = pd.DataFrame([rf_scores, xgb_scores, stack_scores], \n",
    "                          columns=[\"MSE\", \"RMSE\", \"MAE\", \"R² Score\"],\n",
    "                          index=[\"Random Forest\", \"XGBoost\", \"Stacked Model\"])\n",
    "\n",
    "print(results_df)"
   ]
  },
  {
   "cell_type": "code",
   "execution_count": null,
   "id": "ce112708-bba6-4ae2-88aa-fd05cc6d329e",
   "metadata": {},
   "outputs": [],
   "source": []
  }
 ],
 "metadata": {
  "kernelspec": {
   "display_name": "Python 3 (ipykernel)",
   "language": "python",
   "name": "python3"
  },
  "language_info": {
   "codemirror_mode": {
    "name": "ipython",
    "version": 3
   },
   "file_extension": ".py",
   "mimetype": "text/x-python",
   "name": "python",
   "nbconvert_exporter": "python",
   "pygments_lexer": "ipython3",
   "version": "3.10.11"
  }
 },
 "nbformat": 4,
 "nbformat_minor": 5
}
