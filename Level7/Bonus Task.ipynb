{
 "cells": [
  {
   "cell_type": "code",
   "execution_count": 1,
   "id": "9156d2ae-de49-4a0f-83f6-b248b5a3402e",
   "metadata": {},
   "outputs": [
    {
     "name": "stdout",
     "output_type": "stream",
     "text": [
      "Simulated Probability: 0.01\n",
      "Theoretical Probability is 4/663 ≈ 0.006\n"
     ]
    }
   ],
   "source": [
    "import numpy as np\n",
    "\n",
    "deck = ['Q']*4 + ['A']*4 + ['O']*44\n",
    "trials = 1000\n",
    "success = 0\n",
    "\n",
    "for _ in range(trials):\n",
    "    draw = np.random.choice(deck, 2, replace=False)\n",
    "    if draw[0] == 'Q' and draw[1] == 'A':\n",
    "        success += 1\n",
    "\n",
    "probability = success / trials\n",
    "print(f\"Simulated Probability: {probability}\")\n",
    "print(\"Theoretical Probability is 4/663 ≈\", round(4/663, 4))"
   ]
  },
  {
   "cell_type": "code",
   "execution_count": null,
   "id": "041cdd47-faf0-47f7-a41f-d36d146c9de0",
   "metadata": {},
   "outputs": [],
   "source": []
  }
 ],
 "metadata": {
  "kernelspec": {
   "display_name": "Python 3 (ipykernel)",
   "language": "python",
   "name": "python3"
  },
  "language_info": {
   "codemirror_mode": {
    "name": "ipython",
    "version": 3
   },
   "file_extension": ".py",
   "mimetype": "text/x-python",
   "name": "python",
   "nbconvert_exporter": "python",
   "pygments_lexer": "ipython3",
   "version": "3.10.11"
  }
 },
 "nbformat": 4,
 "nbformat_minor": 5
}
