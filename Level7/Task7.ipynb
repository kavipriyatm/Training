{
 "cells": [
  {
   "cell_type": "code",
   "execution_count": 1,
   "id": "800885dc-730c-417d-9072-b53b9a2ebda3",
   "metadata": {},
   "outputs": [
    {
     "name": "stdout",
     "output_type": "stream",
     "text": [
      "Simulated Probability: 0.032\n",
      "Theoretical Probability is 1/36 ≈ 0.0278\n"
     ]
    }
   ],
   "source": [
    "import numpy as np\n",
    "\n",
    "trials = 1000\n",
    "rolls = np.random.randint(1, 7, (trials, 2))\n",
    "count = np.sum((rolls[:, 0] == 5) & (rolls[:, 1] == 4))\n",
    "probability = count / trials\n",
    "\n",
    "print(f\"Simulated Probability: {probability}\")\n",
    "print(\"Theoretical Probability is 1/36 ≈\", round(1/36, 4))"
   ]
  },
  {
   "cell_type": "code",
   "execution_count": null,
   "id": "ef876e99-8a39-415e-9bda-fe68ca7fbf94",
   "metadata": {},
   "outputs": [],
   "source": []
  }
 ],
 "metadata": {
  "kernelspec": {
   "display_name": "Python 3 (ipykernel)",
   "language": "python",
   "name": "python3"
  },
  "language_info": {
   "codemirror_mode": {
    "name": "ipython",
    "version": 3
   },
   "file_extension": ".py",
   "mimetype": "text/x-python",
   "name": "python",
   "nbconvert_exporter": "python",
   "pygments_lexer": "ipython3",
   "version": "3.10.11"
  }
 },
 "nbformat": 4,
 "nbformat_minor": 5
}
