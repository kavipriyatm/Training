{
 "cells": [
  {
   "cell_type": "code",
   "execution_count": 1,
   "id": "11a574d1-99cd-49a5-8799-4c3c869ce825",
   "metadata": {},
   "outputs": [
    {
     "name": "stdout",
     "output_type": "stream",
     "text": [
      "Z-Scores: [-1.46385011 -0.87831007 -0.29277002  0.29277002  0.87831007  1.46385011]\n",
      "The z-score for 5 is 0.29\n"
     ]
    }
   ],
   "source": [
    "# Task 1\n",
    "import numpy as np\n",
    "data = np.array([2, 3, 4, 5, 6, 7])\n",
    "mean = np.mean(data)\n",
    "std = np.std(data, ddof=0)\n",
    "z_scores = (data - mean) / std\n",
    "index_of_5 = np.where(data == 5)[0][0]\n",
    "z_score_5 = z_scores[index_of_5]\n",
    "print(\"Z-Scores:\", z_scores)\n",
    "print(f\"The z-score for 5 is {z_score_5:.2f}\")"
   ]
  },
  {
   "cell_type": "code",
   "execution_count": null,
   "id": "c9cc3293-82e7-4f18-bb57-bc61c0e15049",
   "metadata": {},
   "outputs": [],
   "source": []
  }
 ],
 "metadata": {
  "kernelspec": {
   "display_name": "Python 3 (ipykernel)",
   "language": "python",
   "name": "python3"
  },
  "language_info": {
   "codemirror_mode": {
    "name": "ipython",
    "version": 3
   },
   "file_extension": ".py",
   "mimetype": "text/x-python",
   "name": "python",
   "nbconvert_exporter": "python",
   "pygments_lexer": "ipython3",
   "version": "3.10.11"
  }
 },
 "nbformat": 4,
 "nbformat_minor": 5
}
