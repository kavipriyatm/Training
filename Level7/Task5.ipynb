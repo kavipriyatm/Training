{
 "cells": [
  {
   "cell_type": "code",
   "execution_count": 1,
   "id": "b1edcfe2-f843-4e6b-b32e-ebc2c4bd5d05",
   "metadata": {},
   "outputs": [
    {
     "name": "stdout",
     "output_type": "stream",
     "text": [
      "Simulated probability: 0.327\n",
      "Theoretical probability: 0.333\n"
     ]
    }
   ],
   "source": [
    "# Task 5\n",
    "import numpy as np\n",
    "rolls = np.random.randint(1, 7, size=1000)\n",
    "count_1_or_3 = np.sum((rolls == 1) | (rolls == 3))\n",
    "prob_simulated = count_1_or_3 / 1000\n",
    "prob_theoretical = 1/3\n",
    "print(f\"Simulated probability: {prob_simulated:.3f}\")\n",
    "print(f\"Theoretical probability: {prob_theoretical:.3f}\")"
   ]
  },
  {
   "cell_type": "code",
   "execution_count": null,
   "id": "6467621b-a59b-4d66-89eb-3a69d1299131",
   "metadata": {},
   "outputs": [],
   "source": []
  }
 ],
 "metadata": {
  "kernelspec": {
   "display_name": "Python 3 (ipykernel)",
   "language": "python",
   "name": "python3"
  },
  "language_info": {
   "codemirror_mode": {
    "name": "ipython",
    "version": 3
   },
   "file_extension": ".py",
   "mimetype": "text/x-python",
   "name": "python",
   "nbconvert_exporter": "python",
   "pygments_lexer": "ipython3",
   "version": "3.10.11"
  }
 },
 "nbformat": 4,
 "nbformat_minor": 5
}
