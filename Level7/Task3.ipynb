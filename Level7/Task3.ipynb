{
 "cells": [
  {
   "cell_type": "code",
   "execution_count": 1,
   "id": "881ddfc8-86e8-48aa-8c7d-98d1229c6174",
   "metadata": {},
   "outputs": [
    {
     "name": "stdout",
     "output_type": "stream",
     "text": [
      "No outliers detected\n"
     ]
    }
   ],
   "source": [
    "# Task 3\n",
    "import numpy as np\n",
    "data = np.array([1, 2, 3, 4, 5, 6, 7, 8, 9, 20])\n",
    "mean = np.mean(data)\n",
    "std = np.std(data, ddof=0)\n",
    "z_scores = (data - mean) / std\n",
    "outliers = data[np.abs(z_scores) > 3]\n",
    "if len(outliers) == 0:\n",
    "    print(\"No outliers detected\")\n",
    "else:\n",
    "    print(f\"Outliers detected: {outliers}\")"
   ]
  },
  {
   "cell_type": "code",
   "execution_count": null,
   "id": "8e544837-e019-4f86-874a-70917ffb60c9",
   "metadata": {},
   "outputs": [],
   "source": []
  }
 ],
 "metadata": {
  "kernelspec": {
   "display_name": "Python 3 (ipykernel)",
   "language": "python",
   "name": "python3"
  },
  "language_info": {
   "codemirror_mode": {
    "name": "ipython",
    "version": 3
   },
   "file_extension": ".py",
   "mimetype": "text/x-python",
   "name": "python",
   "nbconvert_exporter": "python",
   "pygments_lexer": "ipython3",
   "version": "3.10.11"
  }
 },
 "nbformat": 4,
 "nbformat_minor": 5
}
