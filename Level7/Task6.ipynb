{
 "cells": [
  {
   "cell_type": "code",
   "execution_count": 1,
   "id": "0c8e3f21-b5c2-4f7f-83e4-d27bf05ac3e3",
   "metadata": {},
   "outputs": [
    {
     "name": "stdout",
     "output_type": "stream",
     "text": [
      "P(Queen or Heart) = 0.3077\n"
     ]
    }
   ],
   "source": [
    " #Task 6\n",
    "P_Queen = 4 / 52\n",
    "P_Heart = 13 / 52\n",
    "P_Queen_and_Heart = 1 / 52\n",
    "P_Queen_or_Heart = P_Queen + P_Heart - P_Queen_and_Heart\n",
    "print(f\"P(Queen or Heart) = {P_Queen_or_Heart:.4f}\")"
   ]
  },
  {
   "cell_type": "code",
   "execution_count": null,
   "id": "435afa1d-1093-4fca-b7a0-6e151a07b389",
   "metadata": {},
   "outputs": [],
   "source": []
  }
 ],
 "metadata": {
  "kernelspec": {
   "display_name": "Python 3 (ipykernel)",
   "language": "python",
   "name": "python3"
  },
  "language_info": {
   "codemirror_mode": {
    "name": "ipython",
    "version": 3
   },
   "file_extension": ".py",
   "mimetype": "text/x-python",
   "name": "python",
   "nbconvert_exporter": "python",
   "pygments_lexer": "ipython3",
   "version": "3.10.11"
  }
 },
 "nbformat": 4,
 "nbformat_minor": 5
}
