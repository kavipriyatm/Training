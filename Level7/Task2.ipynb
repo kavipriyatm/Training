{
 "cells": [
  {
   "cell_type": "code",
   "execution_count": 1,
   "id": "9a5db5fa-5046-4c83-ae62-5b8842a52286",
   "metadata": {},
   "outputs": [
    {
     "name": "stdout",
     "output_type": "stream",
     "text": [
      "40.13% of scores fall above 4.25\n"
     ]
    }
   ],
   "source": [
    "# Task 2\n",
    "from scipy.stats import norm\n",
    "z = 0.25\n",
    "area_above = norm.sf(z)\n",
    "percentage_above = area_above * 100\n",
    "print(f\"{percentage_above:.2f}% of scores fall above 4.25\")"
   ]
  },
  {
   "cell_type": "code",
   "execution_count": null,
   "id": "e49fca0b-9d15-46ba-b367-a9d0643454be",
   "metadata": {},
   "outputs": [],
   "source": []
  }
 ],
 "metadata": {
  "kernelspec": {
   "display_name": "Python 3 (ipykernel)",
   "language": "python",
   "name": "python3"
  },
  "language_info": {
   "codemirror_mode": {
    "name": "ipython",
    "version": 3
   },
   "file_extension": ".py",
   "mimetype": "text/x-python",
   "name": "python",
   "nbconvert_exporter": "python",
   "pygments_lexer": "ipython3",
   "version": "3.10.11"
  }
 },
 "nbformat": 4,
 "nbformat_minor": 5
}
