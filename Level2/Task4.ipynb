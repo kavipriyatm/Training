{
 "cells": [
  {
   "cell_type": "code",
   "execution_count": 1,
   "id": "06eb940e-51f9-4ef8-9193-2bd3d411a09b",
   "metadata": {},
   "outputs": [
    {
     "name": "stdout",
     "output_type": "stream",
     "text": [
      "[8, 64]\n"
     ]
    }
   ],
   "source": [
    "#task4\n",
    "import numpy as np\n",
    "lst=np.arange(1,6)\n",
    "even_number = filter(lambda x:x%2==0,lst)\n",
    "even_list=list(even_number)\n",
    "cubed_even=map(lambda x:x**3,even_list)\n",
    "print(list(cubed_even))"
   ]
  },
  {
   "cell_type": "code",
   "execution_count": null,
   "id": "2a0cd963-c859-4a12-9f49-9e1c61a65002",
   "metadata": {},
   "outputs": [],
   "source": []
  }
 ],
 "metadata": {
  "kernelspec": {
   "display_name": "Python 3 (ipykernel)",
   "language": "python",
   "name": "python3"
  },
  "language_info": {
   "codemirror_mode": {
    "name": "ipython",
    "version": 3
   },
   "file_extension": ".py",
   "mimetype": "text/x-python",
   "name": "python",
   "nbconvert_exporter": "python",
   "pygments_lexer": "ipython3",
   "version": "3.10.11"
  }
 },
 "nbformat": 4,
 "nbformat_minor": 5
}
