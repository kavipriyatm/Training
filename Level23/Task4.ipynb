{
 "cells": [
  {
   "cell_type": "code",
   "execution_count": 20,
   "id": "6bd26e17-21dc-4aba-9d1f-632204960ab0",
   "metadata": {},
   "outputs": [],
   "source": [
    "import pandas as pd\n",
    "import numpy as np\n",
    "from sklearn.model_selection import train_test_split\n",
    "from sklearn.preprocessing import StandardScaler,  LabelEncoder\n",
    "from sklearn.metrics import classification_report\n",
    "from imblearn.over_sampling import SMOTE\n",
    "from tensorflow.keras.models import Sequential\n",
    "from tensorflow.keras.layers import Dense"
   ]
  },
  {
   "cell_type": "code",
   "execution_count": 24,
   "id": "0872c03b-72fc-4c07-8d30-8fe00971c975",
   "metadata": {},
   "outputs": [],
   "source": [
    "df = pd.read_csv(\"D:/credit_card_fraud_dataset.csv\")\n",
    "df.drop(columns=[\"TransactionID\", \"TransactionDate\"], inplace=True)"
   ]
  },
  {
   "cell_type": "code",
   "execution_count": 26,
   "id": "da92d437-d54a-426f-b222-d4521aba4d84",
   "metadata": {
    "scrolled": true
   },
   "outputs": [],
   "source": [
    "for col in df.select_dtypes(include='object').columns:\n",
    "    df[col] = LabelEncoder().fit_transform(df[col])\n",
    "X = df.drop(\"IsFraud\", axis=1)\n",
    "y = df[\"IsFraud\"]"
   ]
  },
  {
   "cell_type": "code",
   "execution_count": 28,
   "id": "1916aa45-9cbf-4c42-bfed-063f9f798b4a",
   "metadata": {},
   "outputs": [],
   "source": [
    "X_scaled = StandardScaler().fit_transform(X)\n",
    "X_train, X_test, y_train, y_test = train_test_split(X_scaled, y, test_size=0.2, stratify=y, random_state=42)"
   ]
  },
  {
   "cell_type": "code",
   "execution_count": 30,
   "id": "eba2e2a5-8b43-4a3b-b490-4fd17407c4c4",
   "metadata": {},
   "outputs": [],
   "source": [
    "def build_model():\n",
    "    model = Sequential([\n",
    "        Dense(32, activation='relu', input_shape=(X_train.shape[1],)),\n",
    "        Dense(16, activation='relu'),\n",
    "        Dense(1, activation='sigmoid')\n",
    "    ])\n",
    "    model.compile(optimizer='adam', loss='binary_crossentropy', metrics=['accuracy'])\n",
    "    return model"
   ]
  },
  {
   "cell_type": "code",
   "execution_count": 36,
   "id": "cb5ab434-3faf-4bc1-b436-2527848f714f",
   "metadata": {},
   "outputs": [
    {
     "name": "stderr",
     "output_type": "stream",
     "text": [
      "C:\\Users\\indum\\anaconda3\\Lib\\site-packages\\keras\\src\\layers\\core\\dense.py:87: UserWarning: Do not pass an `input_shape`/`input_dim` argument to a layer. When using Sequential models, prefer using an `Input(shape)` object as the first layer in the model instead.\n",
      "  super().__init__(activity_regularizer=activity_regularizer, **kwargs)\n"
     ]
    },
    {
     "name": "stdout",
     "output_type": "stream",
     "text": [
      "\u001b[1m625/625\u001b[0m \u001b[32m━━━━━━━━━━━━━━━━━━━━\u001b[0m\u001b[37m\u001b[0m \u001b[1m1s\u001b[0m 2ms/step\n"
     ]
    }
   ],
   "source": [
    "model_base = build_model()\n",
    "model_base.fit(X_train, y_train, epochs=5, batch_size=64, verbose=0)\n",
    "y_pred_base = (model_base.predict(X_test) >= 0.5).astype(int)\n",
    "report_base = classification_report(y_test, y_pred_base, output_dict=True, zero_division=0)"
   ]
  },
  {
   "cell_type": "code",
   "execution_count": 38,
   "id": "6b39388b-5be4-40e1-a64c-a2dc3c5c1d60",
   "metadata": {},
   "outputs": [],
   "source": [
    "X_res, y_res = SMOTE(random_state=42).fit_resample(X_train, y_train)"
   ]
  },
  {
   "cell_type": "code",
   "execution_count": 40,
   "id": "f4b5ac6f-0914-4bab-bda8-6abe0d09d66e",
   "metadata": {},
   "outputs": [
    {
     "name": "stderr",
     "output_type": "stream",
     "text": [
      "C:\\Users\\indum\\anaconda3\\Lib\\site-packages\\keras\\src\\layers\\core\\dense.py:87: UserWarning: Do not pass an `input_shape`/`input_dim` argument to a layer. When using Sequential models, prefer using an `Input(shape)` object as the first layer in the model instead.\n",
      "  super().__init__(activity_regularizer=activity_regularizer, **kwargs)\n"
     ]
    },
    {
     "name": "stdout",
     "output_type": "stream",
     "text": [
      "\u001b[1m625/625\u001b[0m \u001b[32m━━━━━━━━━━━━━━━━━━━━\u001b[0m\u001b[37m\u001b[0m \u001b[1m1s\u001b[0m 2ms/step\n"
     ]
    }
   ],
   "source": [
    "model_smote = build_model()\n",
    "model_smote.fit(X_res, y_res, epochs=5, batch_size=64, verbose=0)\n",
    "y_pred_smote = (model_smote.predict(X_test) >= 0.5).astype(int)\n",
    "report_smote = classification_report(y_test, y_pred_smote, output_dict=True)"
   ]
  },
  {
   "cell_type": "code",
   "execution_count": 42,
   "id": "95c38971-43aa-4ca5-a87b-543da7a65cf0",
   "metadata": {},
   "outputs": [
    {
     "name": "stdout",
     "output_type": "stream",
     "text": [
      "\n",
      "🔹 Precision / Recall / F1 Comparison:\n",
      "\n",
      "Model        Precision  Recall     F1-score  \n",
      "Baseline     0.0000     0.0000     0.0000    \n",
      "SMOTE        0.0098     0.3700     0.0192    \n"
     ]
    }
   ],
   "source": [
    "print(\"\\n🔹 Precision / Recall / F1 Comparison:\\n\")\n",
    "print(\"{:<12} {:<10} {:<10} {:<10}\".format(\"Model\", \"Precision\", \"Recall\", \"F1-score\"))\n",
    "for report, label in zip([report_base, report_smote], ['Baseline', 'SMOTE']):\n",
    "    p = report['1']['precision']\n",
    "    r = report['1']['recall']\n",
    "    f1 = report['1']['f1-score']\n",
    "    print(f\"{label:<12} {p:<10.4f} {r:<10.4f} {f1:<10.4f}\")"
   ]
  },
  {
   "cell_type": "code",
   "execution_count": null,
   "id": "a989fd30-b076-4310-985e-aa25174e726e",
   "metadata": {},
   "outputs": [],
   "source": []
  }
 ],
 "metadata": {
  "kernelspec": {
   "display_name": "Python [conda env:base] *",
   "language": "python",
   "name": "conda-base-py"
  },
  "language_info": {
   "codemirror_mode": {
    "name": "ipython",
    "version": 3
   },
   "file_extension": ".py",
   "mimetype": "text/x-python",
   "name": "python",
   "nbconvert_exporter": "python",
   "pygments_lexer": "ipython3",
   "version": "3.12.7"
  }
 },
 "nbformat": 4,
 "nbformat_minor": 5
}
