{
 "cells": [
  {
   "cell_type": "code",
   "execution_count": 1,
   "id": "b35a728b-e39f-434e-a46f-a120a6803830",
   "metadata": {},
   "outputs": [
    {
     "name": "stdout",
     "output_type": "stream",
     "text": [
      "Custom Ensemble Accuracy: 0.525\n",
      "VotingClassifier Accuracy: 0.525\n"
     ]
    }
   ],
   "source": [
    "import pandas as pd\n",
    "import numpy as np\n",
    "from sklearn.model_selection import train_test_split\n",
    "from sklearn.preprocessing import LabelEncoder, StandardScaler\n",
    "from sklearn.ensemble import RandomForestClassifier, VotingClassifier\n",
    "from xgboost import XGBClassifier\n",
    "from sklearn.metrics import accuracy_score\n",
    "\n",
    "df = pd.read_csv(\"Titanic.csv\")\n",
    "df = df[['Pclass', 'Sex', 'Age', 'SibSp', 'Parch', 'Fare', 'Embarked', 'Survived']]\n",
    "df.dropna(inplace=True)\n",
    "\n",
    "le = LabelEncoder()\n",
    "df['Sex'] = le.fit_transform(df['Sex'])\n",
    "df['Embarked'] = le.fit_transform(df['Embarked'])\n",
    "\n",
    "X = df.drop(\"Survived\", axis=1)\n",
    "y = df[\"Survived\"]\n",
    "\n",
    "scaler = StandardScaler()\n",
    "X_scaled = scaler.fit_transform(X)\n",
    "\n",
    "X_train, X_test, y_train, y_test = train_test_split(X_scaled, y, test_size=0.2, random_state=42)\n",
    "\n",
    "rf = RandomForestClassifier(random_state=42)\n",
    "xgb = XGBClassifier(eval_metric='logloss', random_state=42)\n",
    "\n",
    "rf.fit(X_train, y_train)\n",
    "xgb.fit(X_train, y_train)\n",
    "\n",
    "rf_probs = rf.predict_proba(X_test)[:, 1]\n",
    "xgb_probs = xgb.predict_proba(X_test)[:, 1]\n",
    "\n",
    "avg_probs = (rf_probs + xgb_probs) / 2\n",
    "custom_preds = (avg_probs >= 0.5).astype(int)\n",
    "\n",
    "custom_acc = accuracy_score(y_test, custom_preds)\n",
    "\n",
    "vc = VotingClassifier(estimators=[('rf', rf), ('xgb', xgb)], voting='soft')\n",
    "vc.fit(X_train, y_train)\n",
    "vc_preds = vc.predict(X_test)\n",
    "vc_acc = accuracy_score(y_test, vc_preds)\n",
    "\n",
    "print(\"Custom Ensemble Accuracy:\", custom_acc)\n",
    "print(\"VotingClassifier Accuracy:\", vc_acc)"
   ]
  },
  {
   "cell_type": "code",
   "execution_count": null,
   "id": "bd5a6c93-d88c-454a-87ac-f9f0ba234bcd",
   "metadata": {},
   "outputs": [],
   "source": []
  }
 ],
 "metadata": {
  "kernelspec": {
   "display_name": "Python 3 (ipykernel)",
   "language": "python",
   "name": "python3"
  },
  "language_info": {
   "codemirror_mode": {
    "name": "ipython",
    "version": 3
   },
   "file_extension": ".py",
   "mimetype": "text/x-python",
   "name": "python",
   "nbconvert_exporter": "python",
   "pygments_lexer": "ipython3",
   "version": "3.10.11"
  }
 },
 "nbformat": 4,
 "nbformat_minor": 5
}
