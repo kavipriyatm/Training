{
 "cells": [
  {
   "cell_type": "code",
   "execution_count": 6,
   "id": "d697907f-dc9f-4459-88c7-021ee2f6eaea",
   "metadata": {},
   "outputs": [],
   "source": [
    "import pandas as pd\n",
    "import seaborn as sns\n",
    "import matplotlib.pyplot as plt\n",
    "df = pd.read_csv(\"Online_retail.csv\")"
   ]
  },
  {
   "cell_type": "code",
   "execution_count": 7,
   "id": "833c71ce-48c7-4419-b730-7248946b2f05",
   "metadata": {},
   "outputs": [],
   "source": [
    "df[\"InvoiceDate\"] = pd.to_datetime(df[\"InvoiceDate\"])\n",
    "df[\"Month\"] = df[\"InvoiceDate\"].dt.month\n",
    "\n",
    "month_1 = df[df[\"Month\"] == 1][\"Quantity\"].dropna()\n",
    "month_2 = df[df[\"Month\"] == 2][\"Quantity\"].dropna()"
   ]
  },
  {
   "cell_type": "code",
   "execution_count": 8,
   "id": "dddd0d30-0a97-4095-89bc-db9d7deb640a",
   "metadata": {},
   "outputs": [
    {
     "name": "stdout",
     "output_type": "stream",
     "text": [
      "T-statistic: -0.41\n",
      "P-value: 0.68019\n"
     ]
    }
   ],
   "source": [
    "from scipy import stats\n",
    "\n",
    "t_stat, p_value = stats.ttest_ind(month_1, month_2, equal_var=False)\n",
    "\n",
    "print(f\"T-statistic: {t_stat:.2f}\")\n",
    "print(f\"P-value: {p_value:.5f}\")"
   ]
  },
  {
   "cell_type": "code",
   "execution_count": 9,
   "id": "2ba31480-05a3-46b4-964c-dabf1422e419",
   "metadata": {},
   "outputs": [
    {
     "name": "stderr",
     "output_type": "stream",
     "text": [
      "C:\\Users\\kavip\\AppData\\Local\\Temp\\ipykernel_42932\\1080151538.py:2: FutureWarning: \n",
      "\n",
      "Passing `palette` without assigning `hue` is deprecated and will be removed in v0.14.0. Assign the `x` variable to `hue` and set `legend=False` for the same effect.\n",
      "\n",
      "  sns.barplot(x=[\"Month 1\", \"Month 2\"], y=[month_1.mean(), month_2.mean()], palette=\"viridis\")\n"
     ]
    },
    {
     "data": {
      "image/png": "[encoded data removed]",
      "text/plain": [
       "<Figure size 800x500 with 1 Axes>"
      ]
     },
     "metadata": {},
     "output_type": "display_data"
    }
   ],
   "source": [
    "plt.figure(figsize=(8, 5))\n",
    "sns.barplot(x=[\"Month 1\", \"Month 2\"], y=[month_1.mean(), month_2.mean()], palette=\"viridis\")\n",
    "plt.title(\"Average Sales by Month\")\n",
    "plt.ylabel(\"Sales Quantity\")\n",
    "plt.show()"
   ]
  },
  {
   "cell_type": "code",
   "execution_count": null,
   "id": "74d152c2-b155-44e2-96c2-f2ba5b177901",
   "metadata": {},
   "outputs": [],
   "source": []
  }
 ],
 "metadata": {
  "kernelspec": {
   "display_name": "Python 3 (ipykernel)",
   "language": "python",
   "name": "python3"
  },
  "language_info": {
   "codemirror_mode": {
    "name": "ipython",
    "version": 3
   },
   "file_extension": ".py",
   "mimetype": "text/x-python",
   "name": "python",
   "nbconvert_exporter": "python",
   "pygments_lexer": "ipython3",
   "version": "3.10.11"
  }
 },
 "nbformat": 4,
 "nbformat_minor": 5
}
