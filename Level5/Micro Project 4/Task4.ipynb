{
 "cells": [
  {
   "cell_type": "code",
   "execution_count": 1,
   "id": "bb2e85c0-41fd-4a8d-8fce-188aea81013f",
   "metadata": {},
   "outputs": [
    {
     "name": "stdin",
     "output_type": "stream",
     "text": [
      "Enter a short text message:  hi this is kavi\n"
     ]
    },
    {
     "name": "stdout",
     "output_type": "stream",
     "text": [
      "\n",
      "✅ Message successfully encrypted!\n",
      "🔐 SHA256 Hash: 3528e14818b5b34cd3e3563b262636f56cd7e4edda5637ffc97a2fe7bfb0e56d\n"
     ]
    }
   ],
   "source": [
    "import hashlib\n",
    "\n",
    "message = input(\"Enter a short text message: \")\n",
    "\n",
    "with open(\"message.txt\", \"w\") as msg_file:\n",
    "    msg_file.write(message)\n",
    "\n",
    "with open(\"message.txt\", \"r\") as msg_file:\n",
    "    content = msg_file.read()\n",
    "\n",
    "encoded_content = content.encode()\n",
    "hash_object = hashlib.sha256(encoded_content)\n",
    "hash_hex = hash_object.hexdigest()\n",
    "\n",
    "with open(\"encrypted.txt\", \"w\") as enc_file:\n",
    "    enc_file.write(hash_hex)\n",
    "\n",
    "print(\"\\n✅ Message successfully encrypted!\")\n",
    "print(f\"🔐 SHA256 Hash: {hash_hex}\")"
   ]
  },
  {
   "cell_type": "code",
   "execution_count": null,
   "id": "ad8dd2fc-8ffd-45d1-ac49-95bce7bb8356",
   "metadata": {},
   "outputs": [],
   "source": []
  }
 ],
 "metadata": {
  "kernelspec": {
   "display_name": "Python 3 (ipykernel)",
   "language": "python",
   "name": "python3"
  },
  "language_info": {
   "codemirror_mode": {
    "name": "ipython",
    "version": 3
   },
   "file_extension": ".py",
   "mimetype": "text/x-python",
   "name": "python",
   "nbconvert_exporter": "python",
   "pygments_lexer": "ipython3",
   "version": "3.10.11"
  }
 },
 "nbformat": 4,
 "nbformat_minor": 5
}
