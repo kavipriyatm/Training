{
 "cells": [
  {
   "cell_type": "code",
   "execution_count": 1,
   "id": "13b21929-9479-4ad2-94c7-994d10aae334",
   "metadata": {},
   "outputs": [
    {
     "name": "stdout",
     "output_type": "stream",
     "text": [
      "📌 Personal Budget Tracker Menu\n",
      "1. Add New Entry\n",
      "2. Show Summary\n",
      "3. Exit\n"
     ]
    },
    {
     "name": "stdin",
     "output_type": "stream",
     "text": [
      "Choose an option (1/2/3):  1\n",
      "Enter Income Amount (0 if none):  300\n",
      "Enter Expense Amount (0 if none):  120\n",
      "Enter Income Category (or leave blank):  salary\n",
      "Enter Expense Category (or leave blank):  taxi\n",
      "Enter Savings Amount (or 0 if none):  1000\n"
     ]
    },
    {
     "name": "stdout",
     "output_type": "stream",
     "text": [
      "\n",
      "✅ Entry added successfully!\n",
      "💰 Current Balance: 47180.0\n",
      "💾 Saved to budget_data.csv\n",
      "\n",
      "📌 Personal Budget Tracker Menu\n",
      "1. Add New Entry\n",
      "2. Show Summary\n",
      "3. Exit\n"
     ]
    },
    {
     "name": "stdin",
     "output_type": "stream",
     "text": [
      "Choose an option (1/2/3):  2\n"
     ]
    },
    {
     "name": "stdout",
     "output_type": "stream",
     "text": [
      "\n",
      "===== BUDGET SUMMARY =====\n",
      "✅ Total Income   : 50300.0\n",
      "❌ Total Expenses : 3120.0\n",
      "💰 Balance        : 47180.0\n",
      "🪙 Total Savings  : 62000.0\n",
      "\n",
      "📌 Personal Budget Tracker Menu\n",
      "1. Add New Entry\n",
      "2. Show Summary\n",
      "3. Exit\n"
     ]
    },
    {
     "name": "stdin",
     "output_type": "stream",
     "text": [
      "Choose an option (1/2/3):  3\n"
     ]
    },
    {
     "name": "stdout",
     "output_type": "stream",
     "text": [
      "👋 Exiting... Have a great day!\n"
     ]
    }
   ],
   "source": [
    "import pandas as pd\n",
    "from datetime import datetime\n",
    "import os\n",
    "\n",
    "file_path = 'budget_data.csv'\n",
    "\n",
    "if not os.path.exists(file_path):\n",
    "    df = pd.DataFrame(columns=['Date', 'Type', 'Category', 'Amount', 'Balance', 'Savings'])\n",
    "    df.to_csv(file_path, index=False)\n",
    "else:\n",
    "    df = pd.read_csv(file_path)\n",
    "\n",
    "def get_current_balance():\n",
    "    \"\"\"Get the last recorded balance.\"\"\"\n",
    "    if df.empty:\n",
    "        return 0\n",
    "    else:\n",
    "        return df.iloc[-1]['Balance']\n",
    "\n",
    "def add_entry():\n",
    "\n",
    "    entry_date = datetime.now().strftime(\"%Y-%m-%d\")\n",
    "    \n",
    "    income = float(input(\"Enter Income Amount (0 if none): \"))\n",
    "    expense = float(input(\"Enter Expense Amount (0 if none): \"))\n",
    "    category_income = input(\"Enter Income Category (or leave blank): \") if income > 0 else ''\n",
    "    category_expense = input(\"Enter Expense Category (or leave blank): \") if expense > 0 else ''\n",
    "    \n",
    "    current_balance = get_current_balance()\n",
    "    \n",
    "    new_balance = current_balance + income - expense\n",
    "  \n",
    "    savings = float(input(\"Enter Savings Amount (or 0 if none): \"))\n",
    "\n",
    "    records = []\n",
    "    \n",
    "    if income > 0:\n",
    "        records.append({\n",
    "            'Date': entry_date,\n",
    "            'Type': 'Income',\n",
    "            'Category': category_income,\n",
    "            'Amount': income,\n",
    "            'Balance': new_balance,\n",
    "            'Savings': savings\n",
    "        })\n",
    "        \n",
    "    if expense > 0:\n",
    "        records.append({\n",
    "            'Date': entry_date,\n",
    "            'Type': 'Expense',\n",
    "            'Category': category_expense,\n",
    "            'Amount': expense,\n",
    "            'Balance': new_balance,\n",
    "            'Savings': savings\n",
    "        })\n",
    "  \n",
    "    global df\n",
    "    df = pd.concat([df, pd.DataFrame(records)], ignore_index=True)\n",
    "    df.to_csv(file_path, index=False)\n",
    "    \n",
    "    print(\"\\n✅ Entry added successfully!\")\n",
    "    print(f\"💰 Current Balance: {new_balance}\")\n",
    "    print(f\"💾 Saved to {file_path}\\n\")\n",
    "\n",
    "def show_summary():\n",
    "    print(\"\\n===== BUDGET SUMMARY =====\")\n",
    "    \n",
    "    income_total = df[df['Type'] == 'Income']['Amount'].sum()\n",
    "    expense_total = df[df['Type'] == 'Expense']['Amount'].sum()\n",
    "    savings_total = df['Savings'].sum()\n",
    "    balance = get_current_balance()\n",
    "    \n",
    "    print(f\"✅ Total Income   : {income_total}\")\n",
    "    print(f\"❌ Total Expenses : {expense_total}\")\n",
    "    print(f\"💰 Balance        : {balance}\")\n",
    "    print(f\"🪙 Total Savings  : {savings_total}\\n\")\n",
    "\n",
    "while True:\n",
    "    print(\"📌 Personal Budget Tracker Menu\")\n",
    "    print(\"1. Add New Entry\")\n",
    "    print(\"2. Show Summary\")\n",
    "    print(\"3. Exit\")\n",
    "    \n",
    "    choice = input(\"Choose an option (1/2/3): \")\n",
    "    \n",
    "    if choice == '1':\n",
    "        add_entry()\n",
    "    elif choice == '2':\n",
    "        show_summary()\n",
    "    elif choice == '3':\n",
    "        print(\"👋 Exiting... Have a great day!\")\n",
    "        break\n",
    "    else:\n",
    "        print(\"❗ Invalid choice. Please try again.\\n\") "
   ]
  },
  {
   "cell_type": "code",
   "execution_count": null,
   "id": "295dac8a-cce6-4f4b-9ebe-da49bfbe59b8",
   "metadata": {},
   "outputs": [],
   "source": []
  }
 ],
 "metadata": {
  "kernelspec": {
   "display_name": "Python 3 (ipykernel)",
   "language": "python",
   "name": "python3"
  },
  "language_info": {
   "codemirror_mode": {
    "name": "ipython",
    "version": 3
   },
   "file_extension": ".py",
   "mimetype": "text/x-python",
   "name": "python",
   "nbconvert_exporter": "python",
   "pygments_lexer": "ipython3",
   "version": "3.10.11"
  }
 },
 "nbformat": 4,
 "nbformat_minor": 5
}
