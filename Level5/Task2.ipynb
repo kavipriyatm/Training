{
 "cells": [
  {
   "cell_type": "code",
   "execution_count": 1,
   "id": "a9a4c5a7-8484-45b6-b717-8ce60e54b240",
   "metadata": {},
   "outputs": [
    {
     "name": "stdin",
     "output_type": "stream",
     "text": [
      "Enter the name of student 1:  kavi\n",
      "Enter kavi's grade (0-100):  80\n",
      "Enter the name of student 2:  dharani\n",
      "Enter dharani's grade (0-100):  85\n",
      "Enter the name of student 3:  hema\n",
      "Enter hema's grade (0-100):  60\n",
      "Enter the name of student 4:  lochana\n",
      "Enter lochana's grade (0-100):  50\n",
      "Enter the name of student 5:  hari\n",
      "Enter hari's grade (0-100):  60\n"
     ]
    },
    {
     "name": "stdout",
     "output_type": "stream",
     "text": [
      "\n",
      "📊 === Student Grade Summary ===\n",
      "🎯 Average Grade   : 67.0\n",
      "✅ Passing Students: 4\n",
      "🏆 Highest Score   : dharani with 85.0\n",
      "😞 Lowest Score    : lochana with 50.0\n",
      "\n",
      "📝 Student Grades:\n",
      "- kavi : 80.0 (Pass)\n",
      "- dharani : 85.0 (Pass)\n",
      "- hema : 60.0 (Pass)\n",
      "- lochana : 50.0 (Fail)\n",
      "- hari : 60.0 (Pass)\n"
     ]
    }
   ],
   "source": [
    "students = []\n",
    "\n",
    "for i in range(5):\n",
    "    name = input(f\"Enter the name of student {i + 1}: \")\n",
    "    \n",
    "    while True:\n",
    "        try:\n",
    "            grade = float(input(f\"Enter {name}'s grade (0-100): \"))\n",
    "            if 0 <= grade <= 100:\n",
    "                break\n",
    "            else:\n",
    "                print(\"❗ Grade must be between 0 and 100. Try again.\")\n",
    "        except ValueError:\n",
    "            print(\"❗ Invalid input! Please enter a number between 0 and 100.\")\n",
    "    \n",
    "    students.append((name, grade))\n",
    "\n",
    "\n",
    "def calculate_average(student_list):\n",
    "    if not student_list:\n",
    "        return 0\n",
    "    total = sum(grade for _, grade in student_list)\n",
    "    average = total / len(student_list)\n",
    "    return round(average, 2)\n",
    "\n",
    "\n",
    "def count_passing_students(student_list):\n",
    "    passing = [student for student in student_list if student[1] >= 60]\n",
    "    return len(passing)\n",
    "\n",
    "def highest_and_lowest(student_list):\n",
    "    sorted_list = sorted(student_list, key=lambda x: x[1], reverse=True)\n",
    "    highest = sorted_list[0]\n",
    "    lowest = sorted_list[-1]\n",
    "    return highest, lowest\n",
    "\n",
    "average_grade = calculate_average(students)\n",
    "passing_count = count_passing_students(students)\n",
    "highest, lowest = highest_and_lowest(students)\n",
    "\n",
    "print(\"\\n📊 === Student Grade Summary ===\")\n",
    "print(f\"🎯 Average Grade   : {average_grade}\")\n",
    "print(f\"✅ Passing Students: {passing_count}\")\n",
    "print(f\"🏆 Highest Score   : {highest[0]} with {highest[1]}\")\n",
    "print(f\"😞 Lowest Score    : {lowest[0]} with {lowest[1]}\")\n",
    "\n",
    "\n",
    "print(\"\\n📝 Student Grades:\")\n",
    "for student in students:\n",
    "    status = \"Pass\" if student[1] >= 60 else \"Fail\"\n",
    "    print(f\"- {student[0]} : {student[1]} ({status})\")\n",
    "\n"
   ]
  },
  {
   "cell_type": "code",
   "execution_count": null,
   "id": "a9682269-c336-4314-9835-ff6a4372bce3",
   "metadata": {},
   "outputs": [],
   "source": []
  }
 ],
 "metadata": {
  "kernelspec": {
   "display_name": "Python 3 (ipykernel)",
   "language": "python",
   "name": "python3"
  },
  "language_info": {
   "codemirror_mode": {
    "name": "ipython",
    "version": 3
   },
   "file_extension": ".py",
   "mimetype": "text/x-python",
   "name": "python",
   "nbconvert_exporter": "python",
   "pygments_lexer": "ipython3",
   "version": "3.10.11"
  }
 },
 "nbformat": 4,
 "nbformat_minor": 5
}
